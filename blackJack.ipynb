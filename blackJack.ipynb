{
 "cells": [
  {
   "cell_type": "markdown",
   "metadata": {},
   "source": [
    "# Computer Vision Project"
   ]
  },
  {
   "cell_type": "code",
   "execution_count": 663,
   "metadata": {},
   "outputs": [],
   "source": [
    "from scipy.spatial import distance as dist\n",
    "import cv2\n",
    "import numpy as np\n",
    "import math\n",
    "import os\n",
    "import sys\n",
    "import copy\n",
    "from matplotlib import pyplot as plt"
   ]
  },
  {
   "cell_type": "code",
   "execution_count": 575,
   "metadata": {},
   "outputs": [],
   "source": [
    "cards = {\n",
    "    # Jokers in no light\n",
    "    '00279': ['Joker', None, 0],\n",
    "    '00390': ['Joker', None, 0],\n",
    "\n",
    "    # Spades in no light\n",
    "    '00526': ['Ace', 'Spades', 1],\n",
    "    '00665': ['2', 'Spades', 2],\n",
    "    '00790': ['3', 'Spades', 3],\n",
    "    '00929': ['4', 'Spades', 4],\n",
    "    '01079': ['5', 'Spades', 5],\n",
    "    '01211': ['6', 'Spades', 6],\n",
    "    '01408': ['7', 'Spades', 7],\n",
    "    '01543': ['8', 'Spades', 8],\n",
    "    '01680': ['9', 'Spades', 9],\n",
    "    '01824': ['10', 'Spades', 10],\n",
    "    '01962': ['Jack', 'Spades', 10],\n",
    "    '02088': ['Queen', 'Spades', 10],\n",
    "    '02230': ['King', 'Spades', 10],\n",
    "\n",
    "    # Diamonds in no light\n",
    "    '02366': ['Ace', 'Diamonds', 1],\n",
    "    '02472': ['2', 'Diamonds', 2],\n",
    "    '02631': ['3', 'Diamonds', 3],\n",
    "    '02744': ['4', 'Diamonds', 4],\n",
    "    '02921': ['5', 'Diamonds', 5],\n",
    "    '03093': ['6', 'Diamonds', 6],\n",
    "    '03211': ['7', 'Diamonds', 7],\n",
    "    '03376': ['8', 'Diamonds', 8],\n",
    "    '03495': ['9', 'Diamonds', 9],\n",
    "    '03632': ['10', 'Diamonds', 10],\n",
    "    '03724': ['Jack', 'Diamonds', 10],\n",
    "    '03844': ['Queen', 'Diamonds', 10],\n",
    "    '03957': ['King', 'Diamonds', 10],\n",
    "\n",
    "    # Clubs in no light\n",
    "    '04088': ['King', 'Clubs', 10],\n",
    "    '04217': ['Queen', 'Clubs', 10],\n",
    "    '04317': ['Jack', 'Clubs', 10],\n",
    "    '04425': ['10', 'Clubs', 10],\n",
    "    '04521': ['9', 'Clubs', 9],\n",
    "    '04609': ['8', 'Clubs', 8],\n",
    "    '04733': ['7', 'Clubs', 7],\n",
    "    '04873': ['6', 'Clubs', 6],\n",
    "    '04965': ['5', 'Clubs', 5],\n",
    "    '05097': ['4', 'Clubs', 4],\n",
    "    '05209': ['3', 'Clubs', 3],\n",
    "    '05329': ['2', 'Clubs', 2],\n",
    "    '05449': ['Ace', 'Clubs', 1],\n",
    "\n",
    "    # Hearts in no light\n",
    "    '05553': ['King', 'Hearts', 10],\n",
    "    '05653': ['Queen', 'Hearts', 10],\n",
    "    '05749': ['Jack', 'Hearts', 10],\n",
    "    '05841': ['10', 'Hearts', 10],\n",
    "    '05933': ['9', 'Hearts', 9],\n",
    "    '06041': ['8', 'Hearts', 8],\n",
    "    '06153': ['7', 'Hearts', 7],\n",
    "    '06245': ['6', 'Hearts', 6],\n",
    "    '06349': ['5', 'Hearts', 5],\n",
    "    '06417': ['4', 'Hearts', 4],\n",
    "    '06549': ['3', 'Hearts', 3],\n",
    "    '06685': ['2', 'Hearts', 2],\n",
    "    '06869': ['Ace', 'Hearts', 1],\n",
    "\n",
    "    # Desk in no light\n",
    "    '06904': ['Desk', 'Desk' , 0],\n",
    "    '07064': ['Desk', 'Desk' , 0],\n",
    "\n",
    "    # Desk in light\n",
    "    '07324': ['Desk', 'Desk' , 0],\n",
    "    '07344': ['Desk', 'Desk' , 0],\n",
    "\n",
    "    # Hearts in light\n",
    "    '07544': ['Ace', 'Hearts', 1],\n",
    "    '07630': ['2', 'Hearts', 2],\n",
    "    '07738': ['3', 'Hearts', 3],\n",
    "    '07834': ['4', 'Hearts', 4],\n",
    "    '07934': ['5', 'Hearts', 5],\n",
    "    '08026': ['6', 'Hearts', 6],\n",
    "    '08126': ['7', 'Hearts', 7],\n",
    "    '08234': ['8', 'Hearts', 8],\n",
    "    '08342': ['9', 'Hearts', 9],\n",
    "    '08442': ['10', 'Hearts', 10],\n",
    "    '08546': ['Jack', 'Hearts', 10],\n",
    "    '08658': ['Queen', 'Hearts', 10],\n",
    "    '08754': ['King', 'Hearts', 10],\n",
    "\n",
    "    # Clubs in light\n",
    "    '08862': ['Ace', 'Clubs', 1],\n",
    "    '08970': ['2', 'Clubs', 2],\n",
    "    '09074': ['3', 'Clubs', 3],\n",
    "    '09186': ['4', 'Clubs', 4],\n",
    "    '09282': ['5', 'Clubs', 5],\n",
    "    '09378': ['6', 'Clubs', 6],\n",
    "    '09490': ['7', 'Clubs', 7],\n",
    "    '09610': ['8', 'Clubs', 8],\n",
    "    '09722': ['9', 'Clubs', 9],\n",
    "    '09810': ['10', 'Clubs', 10],\n",
    "    '09926': ['Jack', 'Clubs', 10],\n",
    "    '10026': ['Queen', 'Clubs', 10],\n",
    "    '10142': ['King', 'Clubs', 10],\n",
    "\n",
    "    # Diamonds in light\n",
    "    '10250': ['King', 'Diamonds', 10],\n",
    "    '10342': ['Queen', 'Diamonds', 10],\n",
    "    '10426': ['Jack', 'Diamonds', 10],\n",
    "    '10546': ['10', 'Diamonds', 10],\n",
    "    '10646': ['9', 'Diamonds', 9],\n",
    "    '10890': ['8', 'Diamonds', 8],\n",
    "    '10734': ['7', 'Diamonds', 7],\n",
    "    '11066': ['6', 'Diamonds', 6],\n",
    "    '11158': ['5', 'Diamonds', 5],\n",
    "    '11258': ['4', 'Diamonds', 4],\n",
    "    '11366': ['3', 'Diamonds', 3],\n",
    "    '11486': ['2', 'Diamonds', 2],\n",
    "    '11598': ['Ace', 'Diamonds', 1],\n",
    "\n",
    "    # Spades in light\n",
    "    '11714': ['King', 'Spades', 10],\n",
    "    '11814': ['Queen', 'Spades', 10],\n",
    "    '11930': ['Jack', 'Spades', 10],\n",
    "    '12050': ['10', 'Spades', 10],\n",
    "    '12158': ['9', 'Spades', 9],\n",
    "    '12258': ['8', 'Spades', 8],\n",
    "    '12370': ['7', 'Spades', 7],\n",
    "    '12478': ['6', 'Spades', 6],\n",
    "    '12610': ['5', 'Spades', 5],\n",
    "    '12718': ['4', 'Spades', 4],\n",
    "    '12877': ['3', 'Spades', 3],\n",
    "    '12978': ['2', 'Spades', 2],\n",
    "    '13088': ['Ace', 'Spades', 1],\n",
    "\n",
    "    # Jokers in no light\n",
    "    '13220': ['Joker', None, 0],\n",
    "    '13312': ['Joker', None, 0]\n",
    "}\n",
    "\n",
    "Train_overlap = {\n",
    "\n",
    "    '00001': [['Desk', 'Desk' , 0]],\n",
    "    '00165': [['King', 'Hearts', 10]],\n",
    "    '00277': [['King', 'Hearts', 10], ['7', 'Hearts', 7]],\n",
    "    '00445': [['King', 'Hearts', 10], ['7', 'Hearts', 7], ['8', 'Clubs', 8]],\n",
    "    '00653': [['3', 'Hearts', 3]],\n",
    "    '00753': [['3', 'Hearts', 3], ['5', 'Hearts', 5]],\n",
    "    '00849': [['3', 'Hearts', 3], ['5', 'Hearts', 5], ['Ace', 'Clubs', 1]],\n",
    "    '01049': [['3', 'Hearts', 3], ['5', 'Hearts', 5], ['Ace', 'Clubs', 1], ['Queen', 'Clubs', 10]],\n",
    "    '01305': [['3', 'Hearts', 3], ['5', 'Hearts', 5], ['Ace', 'Clubs', 1], ['Queen', 'Clubs', 10], ['6', 'Diamonds', 6]],\n",
    "    '01481': [['Ace', 'Diamonds', 1]],\n",
    "    '01545': [['Ace', 'Diamonds', 1], ['King', 'Diamonds',  10]],\n",
    "    '01641': [['Ace', 'Diamonds', 1], ['King', 'Diamonds',  10], ['5', 'Spades', 5]],\n",
    "    '01765': [['Ace', 'Diamonds', 1], ['King', 'Diamonds',  10], ['5', 'Spades', 5], ['10', 'Clubs', 10]],\n",
    "    '01941': [['10', 'Hearts', 10]],\n",
    "    '02027': [['10', 'Hearts', 10], ['King', 'Clubs', 10]],\n",
    "    '02176': [['6', 'Spades', 6]],\n",
    "    '02251': [['6', 'Spades', 6], ['3', 'Clubs', 3]],\n",
    "    '02344': [['6', 'Spades', 6], ['3', 'Clubs', 3], ['10', 'Spades', 10]],\n",
    "    '02464': [['6', 'Spades', 6], ['3', 'Clubs', 3], ['10', 'Spades', 10], ['8', 'Diamonds', 8]],\n",
    "    '02611': [['6', 'Hearts', 6]],\n",
    "    '02704': [['6', 'Hearts', 6], ['10', 'Diamonds', 10]],\n",
    "    '02794': [['6', 'Hearts', 6], ['10', 'Diamonds', 10], ['6', 'Clubs', 6]],\n",
    "    '02986': [['4', 'Spades', 4]],\n",
    "    '03091': [['4', 'Spades', 4], ['5', 'Diamonds', 5]],\n",
    "    '03172': [['4', 'Spades', 4], ['5', 'Diamonds', 5], ['2', 'Clubs', 2]],\n",
    "    '03301': [['4', 'Spades', 4], ['5', 'Diamonds', 5], ['2', 'Clubs', 2], ['Queen', 'Spades', 10]],\n",
    "    '03577': [['9', 'Spades', 9]],\n",
    "    '03685': [['9', 'Spades', 9], ['3', 'Diamonds', 3]],\n",
    "    '03748': [['9', 'Spades', 9], ['3', 'Diamonds', 3], ['Jack', 'Hearts', 10]],\n",
    "    '03850': [['9', 'Spades', 9], ['3', 'Diamonds', 3], ['Jack', 'Hearts', 10], ['7', 'Diamonds', 7]],\n",
    "    '03919': [['9', 'Spades', 9], ['3', 'Diamonds', 3], ['Jack', 'Hearts', 10], ['7', 'Diamonds', 7]],\n",
    "    '04132': [['8', 'Spades', 8]],\n",
    "    '04198': [['8', 'Spades', 8], ['Jack', 'Clubs', 10]],\n",
    "    '04351': [['7', 'Spades', 7]],\n",
    "    '04414': [['7', 'Spades', 7], ['7', 'Clubs', 7]],\n",
    "    '04528': [['7', 'Spades', 7], ['7', 'Clubs', 7], ['Queen', 'Hearts', 10]],\n",
    "    '04705': [['4', 'Diamonds', 4]],\n",
    "    '04780': [['4', 'Diamonds', 4], ['Ace', 'Hearts', 1]],\n",
    "    '05005': [['4', 'Diamonds', 4], ['Ace', 'Hearts', 1], ['Jack', 'Spades', 10]],\n",
    "    '05152': [['4', 'Diamonds', 4], ['Ace', 'Hearts', 1], ['Jack', 'Spades', 10], ['2', 'Hearts', 2]],\n",
    "    '05224': [['4', 'Diamonds', 4], ['Ace', 'Hearts', 1], ['Jack', 'Spades', 10], ['2', 'Hearts', 2], ['5', 'Hearts', 5]],\n",
    "    '05395': [['9', 'Hearts', 9]],\n",
    "    '05467': [['9', 'Hearts', 9], ['4', 'Hearts', 4]],\n",
    "    '05545': [['9', 'Hearts', 9], ['4', 'Hearts', 4], ['Queen', 'Diamonds', 10]],\n",
    "    '05692': [['2', 'Diamonds', 2]],\n",
    "    '05782': [['2', 'Diamonds', 2], ['9', 'Clubs', 9]],\n",
    "    '05869': [['2', 'Diamonds', 2], ['9', 'Clubs', 9], ['9', 'Diamonds', 9]],\n",
    "    '05950': [['2', 'Diamonds', 2], ['9', 'Clubs', 9], ['9', 'Diamonds', 9], ['Ace', 'Spades', 1]],\n",
    "    '06202': [['4', 'Clubs', 4]],\n",
    "    '06268': [['4', 'Clubs', 4], ['2', 'Spades', 2]],\n",
    "    '06333': [['4', 'Clubs', 4], ['2', 'Spades', 2], ['King', 'Spades', 10]],\n",
    "    '06469': [['4', 'Clubs', 4], ['2', 'Spades', 2], ['King', 'Spades', 10], ['Jack', 'Diamonds', 10]],\n",
    "    '06597': [['3', 'Spades', 3]],\n",
    "    '06673': [['3', 'Spades', 3], ['8', 'Hearts', 8]],\n",
    "    '06801': [['Desk', 'Desk' , 0]]\n",
    "\n",
    "      }\n",
    "\n",
    "Train_flat = {\n",
    "    '00001': [],#Desk\n",
    "    '00157': [['8', 'Clubs', 8]],\n",
    "    '00293': [['8', 'Clubs', 8], ['5', 'Hearts', 5]],\n",
    "    '00529': [['8', 'Clubs', 8], ['5', 'Hearts', 5], ['Ace', 'Spades', 1]],\n",
    "    '00673': [['8', 'Clubs', 8], ['5', 'Hearts', 5], ['Ace', 'Spades', 1], ['Jack', 'Clubs', 10]],\n",
    "    '01265': [],#Desk\n",
    "    '01481': [['4', 'Clubs', 4]],\n",
    "    '01573': [['4', 'Clubs', 4], ['Ace', 'Clubs', 1]],\n",
    "    '01741': [['4', 'Clubs', 4], ['Ace', 'Clubs', 1], ['Ace', 'Diamonds', 1]],\n",
    "    '02053': [['4', 'Clubs', 4], ['Ace', 'Clubs', 1], ['Ace', 'Diamonds', 1], ['10', 'Diamonds', 10]],\n",
    "    '02213': [['4', 'Clubs', 4], ['Ace', 'Clubs', 1], ['Ace', 'Diamonds', 1], ['10', 'Diamonds', 10], ['6', 'Clubs', 6]],\n",
    "    '02629': [['8', 'Spades', 8]],\n",
    "    '02901': [['8', 'Spades', 8], ['2', 'Spades', 2]],\n",
    "    '02945': [['8', 'Spades', 8], ['2', 'Spades', 2]],\n",
    "    '03041': [['8', 'Spades', 8], ['2', 'Spades', 2], ['King', 'Diamonds', 10]],\n",
    "    '03313': [['8', 'Spades', 8]],\n",
    "    '03401': [['8', 'Spades', 8], ['2', 'Spades', 2]],\n",
    "    '03477': [['8', 'Spades', 8], ['2', 'Spades', 2], ['King', 'Diamonds', 10]],\n",
    "    '03717': [['King', 'Spades', 10]],\n",
    "    '03885': [['King', 'Spades', 10], ['7', 'Spades', 7]],\n",
    "    '04445': [['6', 'Spades', 6]],\n",
    "    '04573': [['6', 'Spades', 6], ['Queen', 'Clubs', 10]],\n",
    "    '04657': [['6', 'Spades', 6], ['Queen', 'Clubs', 10]],\n",
    "    '04821': [['6', 'Spades', 6], ['Queen', 'Clubs', 10], ['3', 'Clubs', 3]],\n",
    "    '05261': [['Ace', 'Hearts', 1]],\n",
    "    '05337': [['Ace', 'Hearts', 1], ['10', 'Clubs', 10]],\n",
    "    '05821': [['King', 'Clubs', 10]],\n",
    "    '05913': [['King', 'Clubs', 10], ['Jack', 'Spades', 10]],\n",
    "    '06115': [['7', 'Clubs', 7]],\n",
    "    '06187': [['7', 'Clubs', 7], ['4', 'Hearts', 4]],\n",
    "    '06375': [['7', 'Clubs', 7], ['4', 'Hearts', 4], ['10', 'Spades', 10]],\n",
    "    '06891': [['5', 'Diamonds', 5]],\n",
    "    '06975': [['5', 'Diamonds', 5], ['5', 'Spades', 5]],\n",
    "    '07115': [['5', 'Diamonds', 5], ['5', 'Spades', 5], ['Jack', 'Diamonds', 10]],\n",
    "    '07303': [['4', 'Diamonds', 4]],\n",
    "    '07355': [['4', 'Diamonds', 4], ['3', 'Spades', 3]],\n",
    "    '07431': [['4', 'Diamonds', 4], ['3', 'Spades', 3], ['King', 'Hearts', 10]],\n",
    "    '07919': [['8', 'Hearts', 8]],\n",
    "    '07975': [['8', 'Hearts', 8], ['Queen', 'Diamonds', 10]],\n",
    "    '08343': [['8', 'Hearts', 8], ['Queen', 'Diamonds', 10], ['2', 'Clubs', 2]],\n",
    "    '08667': [['9', 'Spades', 9]],\n",
    "    '08735': [['9', 'Spades', 9], ['2', 'Hearts', 2]],\n",
    "    '08811': [['9', 'Spades', 9], ['2', 'Hearts', 2], ['Jack', 'Hearts', 10]],\n",
    "    '09419': [['5', 'Clubs', 5]],\n",
    "    '09551': [['5', 'Clubs', 5], ['10', 'Hearts', 10]],\n",
    "    '09903': [['5', 'Clubs', 5], ['10', 'Hearts', 10], ['4', 'Spades', 4]],\n",
    "    '10255': [['Queen', 'Hearts', 10]],\n",
    "    '10355': [['Queen', 'Hearts', 10], ['2', 'Diamonds', 2]],\n",
    "    '10443': [['Queen', 'Hearts', 10], ['2', 'Diamonds', 2], ['9', 'Hearts', 9]],\n",
    "    '10971': [['9', 'Clubs', 9]],\n",
    "    '11055': [['9', 'Clubs', 9], ['6', 'Diamonds', 6]],\n",
    "    '11823': [['9', 'Clubs', 9], ['6', 'Diamonds', 6], ['9', 'Diamonds', 9]],\n",
    "    '12107': [['8', 'Diamonds', 8]],\n",
    "    '12183': [['8', 'Diamonds', 8], ['3', 'Hearts', 3]],\n",
    "    '12263': [['8', 'Diamonds', 8], ['3', 'Hearts', 3], ['7', 'Hearts', 7]],\n",
    "    '12871': [['Queen', 'Spades', 10]],\n",
    "    '12951': [['Queen', 'Spades', 10], ['7', 'Diamonds', 7]],\n",
    "    '13123': [['Queen', 'Spades', 10], ['7', 'Diamonds', 7], ['3', 'Diamonds', 3]],\n",
    "    '13415': [['6', 'Hearts', 6]],\n",
    "    '13483': [['6', 'Hearts', 6], ['9', 'Diamonds', 9]],\n",
    "    '13667': [['6', 'Diamonds', 6], ['6', 'Hearts', 6], ['9', 'Diamonds', 9]],\n",
    "\n",
    "        }\n"
   ]
  },
  {
   "cell_type": "code",
   "execution_count": 3,
   "metadata": {},
   "outputs": [],
   "source": [
    "def show_image(image, image_name='image'): \n",
    "    cv2.imshow('image',image)\n",
    "    cv2.waitKey(0)\n",
    "    cv2.destroyAllWindows()\n",
    "    for i in range(1, 5):\n",
    "        cv2.waitKey(1)"
   ]
  },
  {
   "cell_type": "code",
   "execution_count": 262,
   "metadata": {},
   "outputs": [],
   "source": [
    "def preprocess_image_grad(image):\n",
    "    image = np.float32(image) / 255.0\n",
    "    # Calculate gradient \n",
    "    gx = cv2.Sobel(image, cv2.CV_32F, 1, 0, ksize=1)\n",
    "    gy = cv2.Sobel(image, cv2.CV_32F, 0, 1, ksize=1)\n",
    "    \n",
    "    mag, angle = cv2.cartToPolar(gx, gy, angleInDegrees=True)\n",
    "    gray = cv2.cvtColor(mag,cv2.COLOR_BGR2GRAY)\n",
    "    blur = cv2.GaussianBlur(gray,(5,5),0)\n",
    "    retval,thresh = cv2.threshold(blur,0.20,1,cv2.THRESH_BINARY)\n",
    "    return thresh"
   ]
  },
  {
   "cell_type": "code",
   "execution_count": 5,
   "metadata": {},
   "outputs": [],
   "source": [
    "def valid_contours(min_, max_, min_area, max_area, contours):\n",
    "    valid_conts = []\n",
    "    for i in np.arange(len(contours)):\n",
    "        if min_ < cv2.arcLength(contours[i], False) < max_ :\n",
    "            if min_area < cv2.contourArea(contours[i], False) < max_area :\n",
    "                valid_conts.append(i)\n",
    "    return valid_conts"
   ]
  },
  {
   "cell_type": "code",
   "execution_count": 6,
   "metadata": {},
   "outputs": [],
   "source": [
    "def test_contours(image):\n",
    "    gray = cv2.cvtColor(image,cv2.COLOR_BGR2GRAY)\n",
    "    retval,thresh = cv2.threshold(gray,127,255,cv2.THRESH_BINARY)\n",
    "    im2, contours, hierarchy = cv2.findContours(thresh,cv2.RETR_EXTERNAL ,cv2.CHAIN_APPROX_NONE)\n",
    "    return contours"
   ]
  },
  {
   "cell_type": "code",
   "execution_count": 438,
   "metadata": {},
   "outputs": [],
   "source": [
    "def order_points(pts):\n",
    "    xSorted = pts[np.argsort(pts[:, 0]), :]\n",
    " \n",
    "    leftMost = xSorted[:2, :]\n",
    "    rightMost = xSorted[2:, :]\n",
    " \n",
    "    leftMost = leftMost[np.argsort(leftMost[:, 1]), :]\n",
    "    (tl, bl) = leftMost\n",
    " \n",
    "    D = dist.cdist(tl[np.newaxis], rightMost, \"euclidean\")[0]\n",
    "    (br, tr) = rightMost[np.argsort(D)[::-1], :]\n",
    " \n",
    "    return np.array([tr, br, bl, tl], dtype=\"float32\")"
   ]
  },
  {
   "cell_type": "code",
   "execution_count": 9,
   "metadata": {},
   "outputs": [],
   "source": [
    "def train_contours(folder, filename):\n",
    "    path = os.path.join(folder, filename + '-lbl.png')\n",
    "    image = cv2.imread(path)\n",
    "    gray = cv2.cvtColor(image,cv2.COLOR_BGR2GRAY)\n",
    "    retval,thresh = cv2.threshold(gray,127,255,cv2.THRESH_BINARY)\n",
    "    im2, contours, hierarchy = cv2.findContours(thresh,cv2.RETR_EXTERNAL ,cv2.CHAIN_APPROX_NONE)\n",
    "    return contours"
   ]
  },
  {
   "cell_type": "code",
   "execution_count": 443,
   "metadata": {},
   "outputs": [],
   "source": [
    "def affine_transform(folder=None, filename=None, contour=None, image=None):\n",
    "    if image is None:\n",
    "        path = os.path.join(folder, filename + '.png')\n",
    "        image = cv2.imread(path)\n",
    "        \n",
    "    epsilon = 0.01*cv2.arcLength(contour, True)\n",
    "    approx = cv2.approxPolyDP(contour, epsilon, True)\n",
    "    if len(approx) is not 4:\n",
    "        rect = cv2.minAreaRect(approx)\n",
    "        approx = cv2.boxPoints(rect)\n",
    "    else:\n",
    "        approx = np.reshape(approx, (4,2))\n",
    "    \n",
    "    approx = order_points(approx)\n",
    "    h = np.array([ [0,0],[449,0],[449,449],[0,449] ],np.float32)\n",
    "    transform = cv2.getPerspectiveTransform(approx, h)\n",
    "    warp = cv2.warpPerspective(image,transform,(450,450))\n",
    "    return warp"
   ]
  },
  {
   "cell_type": "code",
   "execution_count": 577,
   "metadata": {},
   "outputs": [],
   "source": [
    "class Deck(object):\n",
    "    def __init__(self):\n",
    "        self.cards = []\n",
    "\n",
    "    def load_deck(self, cards, folder):\n",
    "        # Initiate SIFT detector\n",
    "        sift = cv2.xfeatures2d.SIFT_create()\n",
    "        \n",
    "        for key in cards:\n",
    "            card = Single_card()\n",
    "            card.filename = key\n",
    "            card.rank = cards[key][0]\n",
    "            card.suit = cards[key][1]\n",
    "            card.value = cards[key][2]\n",
    "            card.contour = train_contours(folder, key)\n",
    "            if card.contour:\n",
    "                card.card = np.array(affine_transform(folder=folder, contour=card.contour[0], filename=key))\n",
    "                card.sift = sift.detectAndCompute(card.card,None)\n",
    "            else:\n",
    "                card.card = np.array([])\n",
    "            self.cards.append(card)\n",
    "            "
   ]
  },
  {
   "cell_type": "code",
   "execution_count": 418,
   "metadata": {},
   "outputs": [],
   "source": [
    "class Single_card(object):\n",
    "    def __init__(self):\n",
    "        self.rank = None\n",
    "        self.suit = None\n",
    "        self.value = 0\n",
    "        self.contour = None\n",
    "        self.card = None\n",
    "        self.height = 0\n",
    "        self.width = 0\n",
    "        self.sift = None\n",
    "        self.filename = None"
   ]
  },
  {
   "cell_type": "code",
   "execution_count": 156,
   "metadata": {},
   "outputs": [],
   "source": [
    "class black_jack_round(object):\n",
    "    def __init__(self):\n",
    "        self.round = []\n",
    "        self.filename = None"
   ]
  },
  {
   "cell_type": "code",
   "execution_count": 166,
   "metadata": {},
   "outputs": [],
   "source": [
    "class training_set(object):\n",
    "    def __init__(self):\n",
    "        self.set = []\n",
    "\n",
    "    def load_training_set(self, training_set):\n",
    "        for key in training_set:\n",
    "            black_jack = black_jack_round()\n",
    "            for i, card_ in enumerate(training_set[key]):\n",
    "                card = Single_card()\n",
    "                card.rank = card_[0]\n",
    "                card.suit = card_[1]\n",
    "                card.value = card_[2]\n",
    "                black_jack.round.append(card)\n",
    "            black_jack.filename = key\n",
    "            self.set.append(black_jack)"
   ]
  },
  {
   "cell_type": "code",
   "execution_count": 12,
   "metadata": {},
   "outputs": [],
   "source": [
    "sing_cards ='CV-BlackjackStudent/GOPR0317.MP4-lbl/'\n",
    "lap_cards ='CV-BlackjackStudent/GOPR0318.MP4-lbl/'\n",
    "ind_cards ='CV-BlackjackStudent/GOPR0319.MP4-lbl/'"
   ]
  },
  {
   "cell_type": "code",
   "execution_count": 391,
   "metadata": {},
   "outputs": [],
   "source": [
    "image = cv2.imread('CV-BlackjackStudent/GOPR0319.MP4-lbl/08343.png')"
   ]
  },
  {
   "cell_type": "code",
   "execution_count": 392,
   "metadata": {},
   "outputs": [],
   "source": [
    "thresh = preprocess_image_grad(image)"
   ]
  },
  {
   "cell_type": "code",
   "execution_count": 393,
   "metadata": {},
   "outputs": [],
   "source": [
    "imS = cv2.resize(thresh, (960, 540))   \n",
    "show_image(imS)"
   ]
  },
  {
   "cell_type": "code",
   "execution_count": 394,
   "metadata": {},
   "outputs": [],
   "source": [
    "thresh = cv2.convertScaleAbs(thresh)"
   ]
  },
  {
   "cell_type": "code",
   "execution_count": 395,
   "metadata": {},
   "outputs": [],
   "source": [
    "im2, contours, hierarchy = cv2.findContours(thresh,cv2.RETR_EXTERNAL ,cv2.CHAIN_APPROX_NONE)"
   ]
  },
  {
   "cell_type": "code",
   "execution_count": 396,
   "metadata": {},
   "outputs": [],
   "source": [
    "valid_conts = [contours[i] for i in valid_contours(250, 2000, 500, 100000, contours)]\n",
    "#drawn = cv2.drawContours(image.copy(), valid_conts, -1, (0,255,0), 1)"
   ]
  },
  {
   "cell_type": "code",
   "execution_count": 380,
   "metadata": {},
   "outputs": [],
   "source": [
    "imS = cv2.resize(drawn, (960, 540))   \n",
    "show_image(imS)"
   ]
  },
  {
   "cell_type": "code",
   "execution_count": 381,
   "metadata": {},
   "outputs": [],
   "source": [
    "for i in range(len(valid_conts)):\n",
    "    warp = affine_transform(image=image, contour=valid_conts[i])\n",
    "    show_image(warp)"
   ]
  },
  {
   "cell_type": "code",
   "execution_count": 578,
   "metadata": {},
   "outputs": [
    {
     "data": {
      "text/plain": [
       "112"
      ]
     },
     "execution_count": 578,
     "metadata": {},
     "output_type": "execute_result"
    }
   ],
   "source": [
    "deck = Deck()\n",
    "deck.load_deck(cards, sing_cards)\n",
    "len(deck.cards)"
   ]
  },
  {
   "cell_type": "code",
   "execution_count": 654,
   "metadata": {},
   "outputs": [],
   "source": [
    "image = cv2.imread('CV-BlackjackStudent/GOPR0319.MP4-lbl/07431.png')\n",
    "thresh = preprocess_image_grad(image)\n",
    "thresh = cv2.convertScaleAbs(thresh)\n",
    "\n",
    "im2, contours, hierarchy = cv2.findContours(thresh,cv2.RETR_EXTERNAL ,cv2.CHAIN_APPROX_NONE)\n",
    "\n",
    "valid_conts = [contours[i] for i in valid_contours(250, 2000, 500, 100000, contours)]\n",
    "\n",
    "#for i in range(len(valid_conts)):\n",
    "img1 = affine_transform(image=image, contour=valid_conts[1])\n",
    "\n",
    "card = Single_card()\n",
    "card.filename = '07431'\n",
    "card.rank = 'Back'\n",
    "card.suit = 'of Card'\n",
    "card.value = 0\n",
    "card.contour = [valid_conts[1]]\n",
    "if card.contour:\n",
    "    card.card = np.array(affine_transform(folder='CV-BlackjackStudent/GOPR0319.MP4-lbl', contour=card.contour[0], filename=card.filename))\n",
    "    card.sift = sift.detectAndCompute(card.card,None)\n",
    "else:\n",
    "    card.card = np.array([])\n",
    "deck.cards.append(card)"
   ]
  },
  {
   "cell_type": "code",
   "execution_count": 494,
   "metadata": {},
   "outputs": [
    {
     "name": "stdout",
     "output_type": "stream",
     "text": [
      "[[ 89.  79.   0. ...   0.   0.   0.]\n",
      " [  0.   0.   0. ...  75.   0.   0.]\n",
      " [ 31.  35.   0. ...   0.   0.   0.]\n",
      " ...\n",
      " [ 31.  69.   0. ...   0.   0.   0.]\n",
      " [ 14. 105.  50. ...   0.   0.   9.]\n",
      " [ 48.  49.   0. ...   0.   0.   0.]]\n"
     ]
    }
   ],
   "source": [
    "print(deck.cards[2].sift[1])"
   ]
  },
  {
   "cell_type": "code",
   "execution_count": 167,
   "metadata": {},
   "outputs": [],
   "source": [
    "training_set_overlap = training_set()\n",
    "training_set_overlap.load_training_set(Train_overlap)"
   ]
  },
  {
   "cell_type": "code",
   "execution_count": 201,
   "metadata": {},
   "outputs": [],
   "source": [
    "training_set_flat = training_set()\n",
    "training_set_flat.load_training_set(Train_flat)"
   ]
  },
  {
   "cell_type": "code",
   "execution_count": 237,
   "metadata": {},
   "outputs": [],
   "source": [
    "warp = affine_transform(image=thresh, contour=valid_conts[5])\n",
    "show_image(warp)"
   ]
  },
  {
   "cell_type": "code",
   "execution_count": 204,
   "metadata": {},
   "outputs": [
    {
     "name": "stdout",
     "output_type": "stream",
     "text": [
      "[<__main__.Single_card object at 0x10b827208>]\n"
     ]
    }
   ],
   "source": [
    "image_cards = training_set_flat.set[3].round\n",
    "print(image_cards)"
   ]
  },
  {
   "cell_type": "code",
   "execution_count": 229,
   "metadata": {},
   "outputs": [],
   "source": [
    "path = os.path.join(ind_cards, training_set_flat.set[3].filename + '.png')\n",
    "image = cv2.imread(path)\n",
    "\n",
    "thresh = preprocess_image_grad(image)\n",
    "thresh = cv2.convertScaleAbs(thresh)\n",
    "\n",
    "im2, contours, hierarchy = cv2.findContours(thresh,cv2.RETR_EXTERNAL ,cv2.CHAIN_APPROX_NONE)\n",
    "\n",
    "valid_conts = [contours[i] for i in valid_contours(250, 2000, 500, 100000, contours)]\n",
    "\n",
    "for i in range(len(valid_conts)):\n",
    "    warp = affine_transform(image=image, contour=valid_conts[i])\n",
    "    show_image(warp)\n",
    "# imS = cv2.resize(image, (960, 540))   \n",
    "# show_image(imS)"
   ]
  },
  {
   "cell_type": "code",
   "execution_count": 386,
   "metadata": {},
   "outputs": [],
   "source": [
    "def preprocess_(image):\n",
    "    image = np.float32(image) / 255.0\n",
    "    # Calculate gradient \n",
    "    gx = cv2.Sobel(image, cv2.CV_32F, 1, 0, ksize=1)\n",
    "    gy = cv2.Sobel(image, cv2.CV_32F, 0, 1, ksize=1)\n",
    "    \n",
    "    mag, angle = cv2.cartToPolar(gx, gy, angleInDegrees=True)\n",
    "    gray = cv2.cvtColor(mag,cv2.COLOR_BGR2GRAY)\n",
    "    blur = cv2.GaussianBlur(gray,(5,5),0)\n",
    "    gray = np.float32(gray) * 255.0\n",
    "    retval,thresh = cv2.threshold(gray,20,255,cv2.THRESH_BINARY)\n",
    "    #thresh = np.float32(thresh) * 255.0\n",
    "    return thresh"
   ]
  },
  {
   "cell_type": "code",
   "execution_count": 371,
   "metadata": {},
   "outputs": [
    {
     "name": "stdout",
     "output_type": "stream",
     "text": [
      "255.0\n"
     ]
    }
   ],
   "source": [
    "warp = affine_transform(image=image, contour=valid_conts[1])\n",
    "warp_ = affine_transform(image=image, contour=valid_conts[2])\n",
    "pros_im = preprocess_(warp)\n",
    "show_image(pros_im)\n",
    "print(pros_im.max())"
   ]
  },
  {
   "cell_type": "code",
   "execution_count": 362,
   "metadata": {},
   "outputs": [
    {
     "name": "stdout",
     "output_type": "stream",
     "text": [
      "17546548.0\n"
     ]
    }
   ],
   "source": [
    "diff = cv2.absdiff(preprocess_(warp),preprocess_(warp_))  \n",
    "show_image(diff)\n",
    "print(np.sum(diff))"
   ]
  },
  {
   "cell_type": "code",
   "execution_count": 387,
   "metadata": {},
   "outputs": [
    {
     "name": "stdout",
     "output_type": "stream",
     "text": [
      "card:Jack Hearts / diff:6794985.0\n",
      "card:2 Diamonds / diff:787950.0\n",
      "card:Queen Diamonds / diff:3871665.0\n",
      "card:Ace Diamonds / diff:3128085.0\n"
     ]
    }
   ],
   "source": [
    "cards_detected = []\n",
    "for i in range(len(valid_conts)):\n",
    "    diffs = []\n",
    "    warp = affine_transform(image=image, contour=valid_conts[i])\n",
    "\n",
    "    for j in range(len(deck.cards)):\n",
    "        if len(deck.cards[j].card) > 0:\n",
    "            diff = cv2.absdiff(preprocess_(warp),preprocess_(deck.cards[j].card))  \n",
    "            diff = cv2.GaussianBlur(diff,(5,5),5)    \n",
    "            flag, diff = cv2.threshold(diff, 200, 255, cv2.THRESH_BINARY)\n",
    "            diffs.append(np.sum(diff))\n",
    "        else:\n",
    "            diffs.append((warp.shape[0]*warp.shape[1])**2)\n",
    "    \n",
    "    indx = np.argmin(diffs)\n",
    "    if diffs[indx] <= 500000:\n",
    "        cards_detected.append(deck.cards[indx])   \n",
    "    print('card:' + str(deck.cards[indx].rank) +\" \" + str(deck.cards[indx].suit) +\" / diff:\" + str(diffs[indx]))\n",
    "    show_image(warp)"
   ]
  },
  {
   "cell_type": "code",
   "execution_count": 318,
   "metadata": {},
   "outputs": [],
   "source": [
    "def preprocess(img):\n",
    "    gray = cv2.cvtColor(img,cv2.COLOR_BGR2GRAY)\n",
    "    blur = cv2.GaussianBlur(gray,(5,5),2 )\n",
    "    thresh = cv2.adaptiveThreshold(blur,255,1,1,11,1)\n",
    "    blur_thresh = cv2.GaussianBlur(thresh,(5,5),5)\n",
    "    return blur_thresh"
   ]
  },
  {
   "cell_type": "code",
   "execution_count": 408,
   "metadata": {},
   "outputs": [],
   "source": [
    "def accuracyDiff(folder, training_set):\n",
    "    total_c_cards = 0\n",
    "    total_t_cards = 0\n",
    "    total_f_cards = 0\n",
    "    iterations = len(training_set.set)\n",
    "    for i in range(iterations):\n",
    "        sys.stdout.write(\"\\rTraining Iteration: \" + str(i+1) + \"/\" + str(iterations)) \n",
    "        \n",
    "        image_cards = training_set.set[i].round\n",
    "        \n",
    "        path = os.path.join(folder, training_set.set[i].filename + '.png')\n",
    "        image = cv2.imread(path)\n",
    "\n",
    "        thresh = preprocess_image_grad(image)\n",
    "        thresh = cv2.convertScaleAbs(thresh)\n",
    "\n",
    "        im2, contours, hierarchy = cv2.findContours(thresh,cv2.RETR_EXTERNAL ,cv2.CHAIN_APPROX_NONE)\n",
    "\n",
    "        valid_conts = [contours[i] for i in valid_contours(250, 2000, 500, 100000, contours)]\n",
    "        \n",
    "        cards_detected = []\n",
    "        for j in range(len(valid_conts)):\n",
    "            diffs = []\n",
    "            warp = affine_transform(image=image, contour=valid_conts[j])\n",
    "            for k in range(len(deck.cards)):\n",
    "                if len(deck.cards[k].card) > 0:\n",
    "                    diff = cv2.absdiff(preprocess_(warp),preprocess_(deck.cards[k].card))  \n",
    "                    diff = cv2.GaussianBlur(diff,(5,5),5)    \n",
    "                    flag, diff = cv2.threshold(diff, 200, 255, cv2.THRESH_BINARY)\n",
    "                    diffs.append(np.sum(diff))\n",
    "                else:\n",
    "                    diffs.append((warp.shape[0]*warp.shape[1])**2)\n",
    "\n",
    "            indx = np.argmin(diffs)\n",
    "            if diffs[indx] <= 5000000:\n",
    "                cards_detected.append(deck.cards[indx]) \n",
    "        c_cards, t_cards, f_cards = correctCount(image_cards, cards_detected)\n",
    "        total_c_cards += c_cards\n",
    "        total_t_cards += t_cards\n",
    "        total_f_cards += f_cards\n",
    "    return (total_c_cards, total_t_cards, total_f_cards)"
   ]
  },
  {
   "cell_type": "code",
   "execution_count": 759,
   "metadata": {},
   "outputs": [],
   "source": [
    "def correctCount(image_cards, detected_cards):\n",
    "    c_cards = 0\n",
    "    f_cards = len(detected_cards)\n",
    "    t_card = len(image_cards)\n",
    "    for i in range(len(detected_cards)):\n",
    "        if detected_cards[i].rank == 'Back':\n",
    "            f_cards-=1\n",
    "        for j in range(t_card):\n",
    "            if detected_cards[i].suit == image_cards[j].suit and detected_cards[i].rank == image_cards[j].rank:\n",
    "                c_cards +=1\n",
    "    return (c_cards, t_card, f_cards)"
   ]
  },
  {
   "cell_type": "code",
   "execution_count": 416,
   "metadata": {},
   "outputs": [
    {
     "name": "stdout",
     "output_type": "stream",
     "text": [
      "Training Iteration: 61/61"
     ]
    }
   ],
   "source": [
    "correct_cards, total_cards, found_cards = accuracyDiff(ind_cards, training_set_flat)"
   ]
  },
  {
   "cell_type": "code",
   "execution_count": 415,
   "metadata": {},
   "outputs": [
    {
     "name": "stdout",
     "output_type": "stream",
     "text": [
      "0.3524590163934426\n"
     ]
    }
   ],
   "source": [
    "print(correct_cards/ total_cards)"
   ]
  },
  {
   "cell_type": "code",
   "execution_count": 417,
   "metadata": {},
   "outputs": [
    {
     "name": "stdout",
     "output_type": "stream",
     "text": [
      "43 122 260\n"
     ]
    }
   ],
   "source": [
    "print(correct_cards, total_cards, found_cards)"
   ]
  },
  {
   "cell_type": "code",
   "execution_count": 648,
   "metadata": {},
   "outputs": [],
   "source": [
    "image = cv2.imread('CV-BlackjackStudent/GOPR0319.MP4-lbl/07431.png')\n",
    "thresh = preprocess_image_grad(image)\n",
    "thresh = cv2.convertScaleAbs(thresh)\n",
    "\n",
    "im2, contours, hierarchy = cv2.findContours(thresh,cv2.RETR_EXTERNAL ,cv2.CHAIN_APPROX_NONE)\n",
    "\n",
    "valid_conts = [contours[i] for i in valid_contours(250, 2000, 500, 100000, contours)]\n",
    "\n",
    "#for i in range(len(valid_conts)):\n",
    "img1 = affine_transform(image=image, contour=valid_conts[1])\n",
    "show_image(img1)"
   ]
  },
  {
   "cell_type": "code",
   "execution_count": 646,
   "metadata": {},
   "outputs": [],
   "source": [
    "image = cv2.imread('CV-BlackjackStudent/GOPR0317.MP4-lbl/03211.png')\n",
    "thresh = preprocess_image_grad(image)\n",
    "\n",
    "thresh = cv2.convertScaleAbs(thresh)\n",
    "\n",
    "im2, contours, hierarchy = cv2.findContours(thresh,cv2.RETR_EXTERNAL ,cv2.CHAIN_APPROX_NONE)\n",
    "\n",
    "valid_conts = [contours[i] for i in valid_contours(250, 2000, 500, 100000, contours)]\n",
    "  \n",
    "#for i in range(len(valid_conts)):\n",
    "img2 = affine_transform(image=image, contour=valid_conts[1])\n",
    "show_image(img2)"
   ]
  },
  {
   "cell_type": "code",
   "execution_count": 650,
   "metadata": {},
   "outputs": [
    {
     "name": "stdout",
     "output_type": "stream",
     "text": [
      "66\n"
     ]
    },
    {
     "data": {
      "image/png": "[encoded data removed]",
      "text/plain": [
       "<Figure size 432x288 with 1 Axes>"
      ]
     },
     "metadata": {},
     "output_type": "display_data"
    },
    {
     "data": {
      "text/plain": [
       "(<matplotlib.image.AxesImage at 0x62cbafb00>, None)"
      ]
     },
     "execution_count": 650,
     "metadata": {},
     "output_type": "execute_result"
    }
   ],
   "source": [
    "# Initiate SIFT detector\n",
    "sift = cv2.xfeatures2d.SIFT_create()\n",
    "kp1, des1 = sift.detectAndCompute(img1,None)\n",
    "kp2, des2 = sift.detectAndCompute(img2,None)\n",
    "\n",
    "# queryKP,queryDesc=detector.detectAndCompute(QueryImg,None)\n",
    "# # BFMatcher with default params\n",
    "# bf = cv2.BFMatcher()\n",
    "# matches = bf.knnMatch(des1,des2, k=2)\n",
    "\n",
    "# BFMatcher with default params\n",
    "bf = cv2.BFMatcher()\n",
    "matches = bf.knnMatch(des1,des2, k=2)\n",
    "\n",
    "# Apply ratio test\n",
    "good = []\n",
    "for m,n in matches:\n",
    "    if m.distance < 0.75*n.distance:\n",
    "        good.append([m])\n",
    "\n",
    "# cv2.drawMatchesKnn expects list of lists as matches.\n",
    "img3 = cv2.drawMatchesKnn(img1,kp1,img2,kp2,good, None,flags=2)\n",
    "print(len(good))\n",
    "plt.imshow(img3),plt.show()"
   ]
  },
  {
   "cell_type": "code",
   "execution_count": 760,
   "metadata": {},
   "outputs": [],
   "source": [
    "def accuracySift(folder, training_set):\n",
    "    total_c_cards = 0\n",
    "    total_t_cards = 0\n",
    "    total_f_cards = 0\n",
    "    iterations = len(training_set.set)\n",
    "    for i in range(iterations):\n",
    "        sys.stdout.write(\"\\rTraining Iteration: \" + str(i+1) + \"/\" + str(iterations)) \n",
    "        \n",
    "        image_cards = training_set.set[i].round\n",
    "        \n",
    "        path = os.path.join(folder, training_set.set[i].filename + '.png')\n",
    "        cards_detected = card_detector(path, deck) \n",
    "       \n",
    "        c_cards, t_cards, f_cards = correctCount(image_cards, cards_detected)\n",
    "        total_c_cards += c_cards\n",
    "        total_t_cards += t_cards\n",
    "        total_f_cards += f_cards\n",
    "    return (total_c_cards, total_t_cards, total_f_cards)"
   ]
  },
  {
   "cell_type": "code",
   "execution_count": 761,
   "metadata": {},
   "outputs": [
    {
     "name": "stdout",
     "output_type": "stream",
     "text": [
      "Training Iteration: 61/61"
     ]
    }
   ],
   "source": [
    "correct_cards, total_cards, found_cards = accuracySift(ind_cards, training_set_flat)"
   ]
  },
  {
   "cell_type": "code",
   "execution_count": 762,
   "metadata": {},
   "outputs": [
    {
     "name": "stdout",
     "output_type": "stream",
     "text": [
      "0.8032786885245902\n"
     ]
    }
   ],
   "source": [
    "print(correct_cards/ total_cards)"
   ]
  },
  {
   "cell_type": "code",
   "execution_count": null,
   "metadata": {},
   "outputs": [],
   "source": [
    "# 61 cards are not part of the mask. but are present in the image"
   ]
  },
  {
   "cell_type": "code",
   "execution_count": 763,
   "metadata": {},
   "outputs": [
    {
     "name": "stdout",
     "output_type": "stream",
     "text": [
      "98 122 163\n"
     ]
    }
   ],
   "source": [
    "print(correct_cards, total_cards, found_cards)"
   ]
  },
  {
   "cell_type": "code",
   "execution_count": null,
   "metadata": {},
   "outputs": [],
   "source": [
    "99 122 235"
   ]
  },
  {
   "cell_type": "code",
   "execution_count": 814,
   "metadata": {},
   "outputs": [],
   "source": [
    "def card_detector(path, deck):\n",
    "        image = cv2.imread(path)\n",
    "        \n",
    "        thresh = preprocess_image_grad(image)\n",
    "        thresh = cv2.convertScaleAbs(thresh)\n",
    "\n",
    "        im2, contours, hierarchy = cv2.findContours(thresh,cv2.RETR_EXTERNAL ,cv2.CHAIN_APPROX_NONE)\n",
    "\n",
    "        valid_conts = [contours[i] for i in valid_contours(250, 2000, 500, 100000, contours)]\n",
    "        \n",
    "        # BFMatcher with default params\n",
    "        bf = cv2.BFMatcher()\n",
    "        \n",
    "        cards_detected = []\n",
    "        for j in range(len(valid_conts)):\n",
    "            diffs = []\n",
    "            warp = affine_transform(image=image, contour=valid_conts[j])\n",
    "\n",
    "            kp1, des1 = sift.detectAndCompute(warp,None)\n",
    "            for k in range(len(deck.cards)):\n",
    "                if(deck.cards[k].sift == None):\n",
    "                    diffs.append(0)\n",
    "                else:\n",
    "                    \n",
    "                    matches = bf.knnMatch(des1,deck.cards[k].sift[1], k=2)\n",
    "                    # Apply ratio test\n",
    "                    good = []\n",
    "                    for m,n in matches:\n",
    "                        if m.distance < 0.75*n.distance:\n",
    "                            good.append([m])\n",
    "\n",
    "                    diffs.append(len(good))\n",
    "            indx = np.argmax(diffs)\n",
    "            if diffs[indx] > 15:\n",
    "                Flag_Safe_Add = True\n",
    "                for l in range(len(cards_detected)):\n",
    "                    if cards_detected[l].suit == deck.cards[indx].suit and cards_detected[l].rank == deck.cards[indx].rank:\n",
    "                        max_match = max(cards_detected[l].matches, diffs[indx])\n",
    "                    \n",
    "                        if max_match is diffs[indx]:\n",
    "                            cards_detected.pop(l)\n",
    "                            break\n",
    "                        else:\n",
    "                            Flag_Safe_Add = False\n",
    "                if Flag_Safe_Add:           \n",
    "                    card = copy.deepcopy(deck.cards[indx])\n",
    "                    card.contour = valid_conts[j]\n",
    "                    card.matches = diffs[indx]\n",
    "                    cards_detected.append(card) \n",
    "        return cards_detected"
   ]
  },
  {
   "cell_type": "code",
   "execution_count": 905,
   "metadata": {},
   "outputs": [],
   "source": [
    "cards = card_detector('CV-BlackjackStudent/GOPR0319.MP4-lbl/08811.png', deck)"
   ]
  },
  {
   "cell_type": "code",
   "execution_count": 906,
   "metadata": {},
   "outputs": [],
   "source": [
    "im = cv2.imread('CV-BlackjackStudent/GOPR0319.MP4-lbl/08811.png')\n",
    "for i in range(len(cards)):\n",
    "    # compute the center of the contour\n",
    "    M = cv2.moments(cards[i].contour)\n",
    "    cX = int(M[\"m10\"] / M[\"m00\"])\n",
    "    cY = int(M[\"m01\"] / M[\"m00\"])\n",
    "    text = 'card:' + str(cards[i].rank) +\" \" + str(cards[i].suit)\n",
    "    cv2.putText(im, text, (cX - 40, cY + 20), cv2.FONT_HERSHEY_SIMPLEX, 2, (0, 59, 174), 3)\n",
    "    cv2.drawContours(im, [cards[i].contour], 0, (0,255,0), 2)             "
   ]
  },
  {
   "cell_type": "code",
   "execution_count": 907,
   "metadata": {},
   "outputs": [],
   "source": [
    "imS = cv2.resize(im, (960, 540))   \n",
    "show_image(imS)"
   ]
  },
  {
   "cell_type": "markdown",
   "metadata": {},
   "source": [
    "## surf\n",
    "## orb\n",
    "## kaze"
   ]
  },
  {
   "cell_type": "code",
   "execution_count": null,
   "metadata": {},
   "outputs": [],
   "source": []
  }
 ],
 "metadata": {
  "kernelspec": {
   "display_name": "Python 3",
   "language": "python",
   "name": "python3"
  },
  "language_info": {
   "codemirror_mode": {
    "name": "ipython",
    "version": 3
   },
   "file_extension": ".py",
   "mimetype": "text/x-python",
   "name": "python",
   "nbconvert_exporter": "python",
   "pygments_lexer": "ipython3",
   "version": "3.8.5"
  },
  "toc": {
   "base_numbering": 1,
   "nav_menu": {},
   "number_sections": true,
   "sideBar": true,
   "skip_h1_title": false,
   "title_cell": "Table of Contents",
   "title_sidebar": "Contents",
   "toc_cell": false,
   "toc_position": {},
   "toc_section_display": true,
   "toc_window_display": false
  }
 },
 "nbformat": 4,
 "nbformat_minor": 2
}
